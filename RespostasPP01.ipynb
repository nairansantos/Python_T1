{
 "cells": [
  {
   "cell_type": "markdown",
   "id": "ffb1741f",
   "metadata": {},
   "source": [
    "Exercício 2: Manipulação de variáveis de tipo inteiro, explorando as características\n",
    "e os limites.\n",
    "● Durante a aula foi apresentado o tipo de dado que permite representar um\n",
    "subconjunto dos números inteiros. Sobre estes tipos de dados:\n",
    "○ Demonstre como funcionam os operadores aritméticos e aritméticos\n",
    "compostos em Python e destaque as principais novidades e diferenças\n",
    "em relação ao conjunto de operadores com inteiros disponíveis em\n",
    "C/C++ ;\n",
    "Residência em Tecnologia da Informação e Comunicação\n",
    "○ Demonstre a possibilidade de representar números inteiros\n",
    "significativamente grandes calculando o fatorial de 30 e comparando\n",
    "o resultado com o maior valor inteiro que pode ser representado em\n",
    "C/C++;\n",
    "○ As variáveis numéricas são imutáveis. Demonstre com exemplos as\n",
    "implicações desta afirmação;\n",
    "○ Verifique quais métodos estão disponíveis para as variáveis inteiras;"
   ]
  },
  {
   "cell_type": "markdown",
   "id": "fade171c",
   "metadata": {},
   "source": [
    "Operadores Aritméticos e Aritméticos composto em python."
   ]
  },
  {
   "cell_type": "code",
   "execution_count": 27,
   "id": "f383d9af",
   "metadata": {},
   "outputs": [
    {
     "name": "stdout",
     "output_type": "stream",
     "text": [
      "18\n"
     ]
    }
   ],
   "source": [
    "a = 15\n",
    "b = 3\n",
    "som = a + b\n",
    "print (soma)"
   ]
  },
  {
   "cell_type": "code",
   "execution_count": null,
   "id": "3e2c5df7",
   "metadata": {},
   "outputs": [],
   "source": [
    "c = 396\n",
    "d = 230\n",
    "subtração = c-d\n",
    "print (subtração)"
   ]
  },
  {
   "cell_type": "code",
   "execution_count": null,
   "id": "8b08583e",
   "metadata": {},
   "outputs": [],
   "source": [
    "a = 14\n",
    "b = 3\n",
    "multiplicação = a * b\n",
    "print (a*b)"
   ]
  },
  {
   "cell_type": "code",
   "execution_count": null,
   "id": "99f1204a",
   "metadata": {},
   "outputs": [],
   "source": [
    "a = 20\n",
    "b = 15\n",
    "divisão = a / b\n",
    "print (divisão)"
   ]
  },
  {
   "cell_type": "code",
   "execution_count": null,
   "id": "4707a439",
   "metadata": {},
   "outputs": [],
   "source": [
    "a = 20 \n",
    "b = 15\n",
    "div = a // b\n",
    "print(div)"
   ]
  },
  {
   "cell_type": "markdown",
   "id": "c274f6b5",
   "metadata": {},
   "source": [
    "Quando a expressão envolve apenas variáveis inteiras se implementa a divisão truncada que retorna um valor inteiro."
   ]
  },
  {
   "cell_type": "code",
   "execution_count": null,
   "id": "1b3689d1",
   "metadata": {},
   "outputs": [],
   "source": [
    "a = 20 \n",
    "b = 15\n",
    "resto = a % b\n",
    "print(resto)"
   ]
  },
  {
   "cell_type": "code",
   "execution_count": null,
   "id": "6e6f4fca",
   "metadata": {},
   "outputs": [],
   "source": [
    "a = 5\n",
    "b = 3\n",
    "\n",
    "pot = 5**3\n",
    "print(pot)"
   ]
  },
  {
   "cell_type": "markdown",
   "id": "bc85dee6",
   "metadata": {},
   "source": [
    "Operadores aritméticos compostos"
   ]
  },
  {
   "cell_type": "code",
   "execution_count": null,
   "id": "e69d5728",
   "metadata": {},
   "outputs": [],
   "source": [
    "a += 5 \n",
    "b -= 2  \n",
    "print(a)\n",
    "print(b)"
   ]
  },
  {
   "cell_type": "markdown",
   "id": "030aee27",
   "metadata": {},
   "source": [
    "a += 5  # Equivalente a a = a + 5\n",
    "b -= 2  # Equivalente a b = b - 2"
   ]
  },
  {
   "cell_type": "markdown",
   "id": "a4fd0a35",
   "metadata": {},
   "source": [
    "Calculando o fatorial de 30 em Python\n",
    "\n",
    "Representação de Números Inteiros Grandes e Comparação com C/C++\n",
    "Em Python, você pode representar números inteiros muito grandes sem se preocupar com estouro de capacidade, ao contrário de C/C++. Veja o exemplo a seguir."
   ]
  },
  {
   "cell_type": "code",
   "execution_count": null,
   "id": "b809f84f",
   "metadata": {},
   "outputs": [],
   "source": [
    "fatorial_30 = 1\n",
    "for i in range(1, 31):\n",
    "    fatorial_30 *= i\n",
    "print(\"Fatorial de 30 em Python:\", fatorial_30)"
   ]
  },
  {
   "cell_type": "markdown",
   "id": "283502f3",
   "metadata": {},
   "source": [
    "Maior valor inteiro representável em C/C++\n",
    "import sys\n",
    "maior_int_c = sys.maxsize\n",
    "print(\"Maior valor inteiro em C/C++:\", maior_int_c)\n"
   ]
  },
  {
   "cell_type": "markdown",
   "id": "72901bf9",
   "metadata": {},
   "source": [
    "mutabilidade de Variáveis Numéricas:\n",
    "\n",
    "Em Python, as variáveis numéricas (inteiros, floats, etc.) são imutáveis. Isso significa que, quando você realiza uma operação que modifica o valor de uma variável, na verdade está criando uma nova variável."
   ]
  },
  {
   "cell_type": "code",
   "execution_count": 28,
   "id": "839260a8",
   "metadata": {},
   "outputs": [
    {
     "name": "stdout",
     "output_type": "stream",
     "text": [
      "valor de x:  8\n",
      "valor de Y:  23\n"
     ]
    }
   ],
   "source": [
    "x = 23\n",
    "y = x\n",
    "\n",
    "x -= 15\n",
    "\n",
    "print(\"valor de x: \" , x)\n",
    "print(\"valor de Y: \" , y)\n"
   ]
  },
  {
   "cell_type": "markdown",
   "id": "45e84c12",
   "metadata": {},
   "source": [
    "observe que y é uma nova variável com o mesmo valor que x, em (x -= 15) Modifica x, mas não afeta y e ( y permanece inalterado)."
   ]
  },
  {
   "cell_type": "markdown",
   "id": "b3307af2",
   "metadata": {},
   "source": [
    "Métodos Disponíveis para Variáveis Inteiras:\n",
    "\n",
    "Em Python, as variáveis inteiras têm métodos associados a elas. Alguns dos métodos comuns incluem bit_length(), que retorna o número mínimo de bits necessários para representar o número em binário, e abs(), que retorna o valor absoluto. Exemplo:"
   ]
  },
  {
   "cell_type": "code",
   "execution_count": 29,
   "id": "ba94bede",
   "metadata": {},
   "outputs": [
    {
     "name": "stdout",
     "output_type": "stream",
     "text": [
      "Número de bits necessários: 5\n",
      "Valor absoluto: 23\n"
     ]
    }
   ],
   "source": [
    "num = -23\n",
    "\n",
    "print(\"Número de bits necessários:\", num.bit_length())\n",
    "print(\"Valor absoluto:\", abs(num))\n"
   ]
  },
  {
   "cell_type": "markdown",
   "id": "e53d7ecb",
   "metadata": {},
   "source": [
    "Aqui estão alguns dos métodos disponíveis para objetos inteiros em Python:\n",
    "\n",
    "__abs__(): Retorna o valor absoluto do inteiro.\n",
    "\n",
    "__add__(other): Retorna a soma do inteiro com other.\n",
    "\n",
    "__and__(other): Retorna a operação de bit a bit AND entre o inteiro e other.\n",
    "\n",
    "__ceil__(): Retorna o menor inteiro maior ou igual ao número.\n",
    "\n",
    "__divmod__(other): Retorna uma tupla contendo o quociente e o resto da divisão do inteiro por other.\n",
    "\n",
    "__eq__(other), __ne__(other), __lt__(other), __le__(other), __gt__(other), __ge__(other): Métodos de comparação.\n",
    "\n",
    "__floor__(): Retorna o maior inteiro menor ou igual ao número.\n",
    "\n",
    "__floordiv__(other): Retorna o quociente da divisão inteira do inteiro por other.\n",
    "\n",
    "__index__(): Retorna o valor do inteiro como um índice.\n",
    "\n",
    "__int__(): Retorna o próprio inteiro.\n",
    "\n",
    "__invert__(): Retorna a inversão bit a bit do inteiro.\n",
    "\n",
    "__lshift__(other): Retorna o resultado do deslocamento de bits para a esquerda.\n",
    "\n",
    "__mod__(other): Retorna o resto da divisão do inteiro por other.\n",
    "\n",
    "__mul__(other): Retorna o produto do inteiro por other.\n",
    "\n",
    "__or__(other): Retorna a operação de bit a bit OR entre o inteiro e other.\n",
    "\n",
    "__pos__(): Retorna o próprio inteiro.\n",
    "\n",
    "__pow__(other, modulo): Retorna o resultado do inteiro elevado a uma potência.\n",
    "\n",
    "__radd__(other), __rsub__(other), __rmul__(other), __rtruediv__(other): Métodos de operação reversa.\n",
    "\n",
    "__rand__(other), __ror__(other), __rxor__(other): Métodos de operação de bit a bit reversa.\n",
    "\n",
    "__round__(ndigits): Retorna o inteiro arredondado para ndigits casas decimais (o padrão é 0).\n",
    "\n",
    "__rshift__(other): Retorna o resultado do deslocamento de bits para a direita.\n",
    "\n",
    "__sub__(other): Retorna a diferença entre o inteiro e other.\n",
    "\n",
    "__truediv__(other): Retorna a divisão verdadeira do inteiro por other.\n",
    "\n",
    "__trunc__(): Retorna a parte inteira do número.\n",
    "\n",
    "__xor__(other): Retorna a operação de bit a bit XOR entre o inteiro e other.\n",
    "\n",
    "Essa é uma lista geral e pode haver métodos adicionais dependendo da versão específica do Python. Para obter informações mais detalhadas, consulte a documentação oficial: Documentação Python - Tipos Numéricos Inteiros.\n",
    "\n"
   ]
  },
  {
   "cell_type": "markdown",
   "id": "9a2a21c1",
   "metadata": {},
   "source": [
    "Exercício 3: Manipulação de variáveis de tipo string e explorando o uso de print.\n",
    "\n",
    "● Os caracteres numéricos aparecem na tabela ASCII, e em outras, numa\n",
    "sequência que começa pelo caractere ‘0’ até o caractere ‘9’. As strings em\n",
    "Python são formadas por conjuntos de caracteres que podem ser tratadas\n",
    "também como valores numéricos. Com base nestas afirmações desenvolva\n",
    "um programa em Python que:\n",
    "○ Imprima na tela, utilizando print, cada um dos caracteres numéricos e\n",
    "seu correspondente código numérico. Pesquise como modificar o\n",
    "comportamento do print para imprimir como caractere e como\n",
    "número.\n",
    "Exemplo:‘0’ - 48 ,‘1’ - 49 , …‘9’ - 57\n",
    "○ Modifique o exercício anterior para que a saída imprima também o\n",
    "código numérico em octal e em hexadecimal.\n",
    "○ Acrescente ao código do exercício anterior a possibilidade de ler um\n",
    "caractere qualquer e imprima no mesmo formato do inciso anterior.\n",
    "Pesquise como ler um valor da entrada padrão.\n",
    "○ Pesquise como trabalha Python os caracteres especiais, ‘ç’ e ‘ã’\n",
    "por exemplo. Acrescente no código do exercício anterior um exemplo\n",
    "que demonstra como usar este recurso."
   ]
  },
  {
   "cell_type": "code",
   "execution_count": 14,
   "id": "663eca07",
   "metadata": {},
   "outputs": [
    {
     "name": "stdout",
     "output_type": "stream",
     "text": [
      "Caracteres numéricos:\n",
      "'0' - 48\n",
      "'0' - 0o60\n",
      "'0' - 0x30\n",
      "'1' - 49\n",
      "'1' - 0o61\n",
      "'1' - 0x31\n",
      "'2' - 50\n",
      "'2' - 0o62\n",
      "'2' - 0x32\n",
      "'3' - 51\n",
      "'3' - 0o63\n",
      "'3' - 0x33\n",
      "'4' - 52\n",
      "'4' - 0o64\n",
      "'4' - 0x34\n",
      "'5' - 53\n",
      "'5' - 0o65\n",
      "'5' - 0x35\n",
      "'6' - 54\n",
      "'6' - 0o66\n",
      "'6' - 0x36\n",
      "'7' - 55\n",
      "'7' - 0o67\n",
      "'7' - 0x37\n",
      "'8' - 56\n",
      "'8' - 0o70\n",
      "'8' - 0x38\n",
      "'9' - 57\n",
      "'9' - 0o71\n",
      "'9' - 0x39\n",
      "Digite um caractere: a\n",
      "Informações sobre o caractere digitado:\n",
      "'a' - 97\n",
      "'a' - 0o141\n",
      "'a' - 0x61\n",
      "Caracteres especiais:\n",
      "'ç' - 231\n",
      "'ç' - 0o347\n",
      "'ç' - 0xe7\n",
      "'ã' - 227\n",
      "'ã' - 0o343\n",
      "'ã' - 0xe3\n"
     ]
    }
   ],
   "source": [
    "def print_char_info(char):\n",
    "    print(f'\\'{char}\\' - {ord(char)}')\n",
    "    print(f'\\'{char}\\' - {oct(ord(char))}')\n",
    "    print(f'\\'{char}\\' - {hex(ord(char))}')\n",
    "\n",
    "# Imprimir caracteres numéricos de '0' a '9'\n",
    "print(\"Caracteres numéricos:\")\n",
    "for num in range(10):\n",
    "    char = str(num)\n",
    "    print_char_info(char)\n",
    "\n",
    "# Ler um caractere da entrada padrão\n",
    "input_char = input(\"Digite um caractere: \")\n",
    "print(\"Informações sobre o caractere digitado:\")\n",
    "print_char_info(input_char)\n",
    "\n",
    "# Caracteres especiais 'ç' e 'ã'\n",
    "special_chars = ['ç', 'ã']\n",
    "print(\"Caracteres especiais:\")\n",
    "for char in special_chars:\n",
    "    print_char_info(char)\n",
    "\n"
   ]
  },
  {
   "cell_type": "markdown",
   "id": "f2631a00",
   "metadata": {},
   "source": [
    "Exercício 4: Manipulação de variáveis de tipo string e explorando os métodos da\n",
    "classe.\n",
    "● As variáveis de tipo string possuem uma série de funcionalidades já\n",
    "implementadas e seus caracteres e substrings podem ser acessados usando\n",
    "indexação e slicing. Crie um exemplo onde:\n",
    "○ Declare uma variável nome atribuindo a ela seu nome completo;\n",
    "○ Pesquise por funcionalidades já implementadas nas strings e separe\n",
    "em duas variáveis novas seu nome do seu sobrenome;\n",
    "○ Verifique qual das duas novas variáveis antecede a outra na ordem\n",
    "alfabética;\n",
    "○ Verifique a quantidade de caracteres de cada uma das novas variáveis;\n",
    "○ Verifique se seu nome é uma palíndromo"
   ]
  },
  {
   "cell_type": "code",
   "execution_count": 18,
   "id": "06b419d4",
   "metadata": {},
   "outputs": [
    {
     "name": "stdout",
     "output_type": "stream",
     "text": [
      "Nome: Nairan\n",
      "Sobrenome: Bento Santos\n",
      "Nome antecede Sobrenome na ordem alfabética: False\n",
      "Tamanho do Nome: 6 caracteres\n",
      "Tamanho do Sobrenome: 12 caracteres\n",
      "Seu nome é um palíndromo: False\n"
     ]
    }
   ],
   "source": [
    "# Declare uma variável nome atribuindo a ela seu nome completo\n",
    "nome_completo = \"Nairan Bento Santos\"\n",
    "\n",
    "# Pesquise por funcionalidades já implementadas nas strings e separe em duas variáveis novas seu nome do seu sobrenome\n",
    "espaco_indice = nome_completo.index(' ')\n",
    "nome = nome_completo[:espaco_indice]\n",
    "sobrenome = nome_completo[espaco_indice+1:]\n",
    "\n",
    "# Verifique qual das duas novas variáveis antecede a outra na ordem alfabética\n",
    "ordem_alfabetica = sorted([nome, sobrenome])\n",
    "primeiro_nome_alfabetico, segundo_nome_alfabetico = ordem_alfabetica\n",
    "\n",
    "# Verifique a quantidade de caracteres de cada uma das novas variáveis\n",
    "tamanho_nome = len(nome)\n",
    "tamanho_sobrenome = len(sobrenome)\n",
    "\n",
    "# Verifique se seu nome é uma palíndromo\n",
    "e_palindromo = nome.lower() == nome.lower()[::-1]\n",
    "\n",
    "# Imprime os resultados\n",
    "print(f\"Nome: {nome}\")\n",
    "print(f\"Sobrenome: {sobrenome}\")\n",
    "print(f\"Nome antecede Sobrenome na ordem alfabética: {primeiro_nome_alfabetico == nome}\")\n",
    "print(f\"Tamanho do Nome: {tamanho_nome} caracteres\")\n",
    "print(f\"Tamanho do Sobrenome: {tamanho_sobrenome} caracteres\")\n",
    "print(f\"Seu nome é um palíndromo: {e_palindromo}\")\n",
    "\n"
   ]
  },
  {
   "cell_type": "markdown",
   "id": "4ea01385",
   "metadata": {},
   "source": [
    "Exercício 5: Manipulação de variáveis de ponto flutuante, explorando as\n",
    "características e os limites.\n",
    "● Durante a aula foi apresentado o tipo de dado que permite representar um\n",
    "subconjunto dos números de ponto flutuante. Sobre estes tipos de dados:\n",
    "○ Demonstre como funcionam os operadores aritméticos e aritméticos\n",
    "compostos em Python;\n",
    "○ Utilizando o operador de exponenciação mostre qual a maior e a\n",
    "menor potência de 2 que pode ser representada com variáveis de\n",
    "ponto flutuante.\n",
    "○ As variáveis numéricas são imutáveis. Demonstre com exemplos as\n",
    "implicações desta afirmação;\n",
    "○ Verifique quais métodos estão disponíveis para as variáveis de ponto\n",
    "flutuante;\n"
   ]
  },
  {
   "cell_type": "code",
   "execution_count": 20,
   "id": "68e93086",
   "metadata": {},
   "outputs": [
    {
     "name": "stdout",
     "output_type": "stream",
     "text": [
      "Soma: 11.0\n",
      "Subtração: 3.0\n",
      "Multiplicação: 28.0\n",
      "Divisão: 1.75\n",
      "a incrementado: 14.0\n",
      "b elevado ao quadrado: 256.0\n"
     ]
    }
   ],
   "source": [
    "# Demonstração de operadores aritméticos e compostos\n",
    "a = 7.0\n",
    "b = 4.0\n",
    "\n",
    "# Operadores aritméticos\n",
    "soma = a + b\n",
    "subtracao = a - b\n",
    "multiplicacao = a * b\n",
    "divisao = a / b\n",
    "\n",
    "# Operadores aritméticos compostos\n",
    "a += 7.0  # Equivalente a: a = a + 7.0\n",
    "b **= 4.0  # Equivalente a: b = b ** 4.0\n",
    "\n",
    "print(f\"Soma: {soma}\")\n",
    "print(f\"Subtração: {subtracao}\")\n",
    "print(f\"Multiplicação: {multiplicacao}\")\n",
    "print(f\"Divisão: {divisao}\")\n",
    "print(f\"a incrementado: {a}\")\n",
    "print(f\"b elevado ao quadrado: {b}\")\n"
   ]
  },
  {
   "attachments": {},
   "cell_type": "markdown",
   "id": "7d96c2d9",
   "metadata": {},
   "source": [
    "Exercício 6: Manipulando listas Dado o seguinte código, e antes de implementar, veja o que será impresso em cada caso\n",
    "\n",
    "L = [1,2,3,4,5,6,7,8,9]\n",
    "\n",
    "print(L[::-1])\n",
    "print(L[::-1])\n",
    "print(L[::-1])\n",
    "print(L[::-2])\n",
    "print(L[::-2])\n",
    "print(L[::-2])\n",
    "\n",
    "[tabela.png](attachment:tabela.png)\n",
    "Descubra qual o signo de um usuário de acordo com seu ano de nascimento.\n"
   ]
  },
  {
   "cell_type": "code",
   "execution_count": 22,
   "id": "92268981",
   "metadata": {},
   "outputs": [
    {
     "name": "stdout",
     "output_type": "stream",
     "text": [
      "Digite o ano de nascimento: 1990\n",
      "Seu signo é Cavalo\n"
     ]
    }
   ],
   "source": [
    "def determinar_signo(ano_de_nascimento):\n",
    "    signos = ['Macaco', 'Galo', 'Cão', 'Porco', 'Rato', 'Boi', 'Tigre', 'Coelho', 'Dragão',\n",
    "              'Serpente', 'Cavalo', 'Carneiro']\n",
    "    signo_index = ano_de_nascimento % 12\n",
    "    return signos[signo_index]\n",
    "\n",
    "ano_de_nascimento = int(input(\"Digite o ano de nascimento: \"))\n",
    "print(\"Seu signo é\", determinar_signo(ano_de_nascimento))"
   ]
  },
  {
   "cell_type": "code",
   "execution_count": null,
   "id": "16452fa6",
   "metadata": {},
   "outputs": [],
   "source": []
  }
 ],
 "metadata": {
  "kernelspec": {
   "display_name": "Python 3 (ipykernel)",
   "language": "python",
   "name": "python3"
  },
  "language_info": {
   "codemirror_mode": {
    "name": "ipython",
    "version": 3
   },
   "file_extension": ".py",
   "mimetype": "text/x-python",
   "name": "python",
   "nbconvert_exporter": "python",
   "pygments_lexer": "ipython3",
   "version": "3.11.5"
  }
 },
 "nbformat": 4,
 "nbformat_minor": 5
}
