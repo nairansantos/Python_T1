{
 "cells": [
  {
   "cell_type": "markdown",
   "id": "31f38f81",
   "metadata": {},
   "source": [
    "Operadores Aritméticos e Aritméticos composto em python."
   ]
  },
  {
   "cell_type": "code",
   "execution_count": null,
   "id": "0de7d211",
   "metadata": {},
   "outputs": [
    {
     "name": "stdout",
     "output_type": "stream",
     "text": [
      "18\n"
     ]
    }
   ],
   "source": [
    "a = 15\n",
    "b = 3\n",
    "soma = a + b\n",
    "print (\"soma\")"
   ]
  },
  {
   "cell_type": "code",
   "execution_count": 2,
   "id": "6dae8692",
   "metadata": {},
   "outputs": [
    {
     "name": "stdout",
     "output_type": "stream",
     "text": [
      "166\n"
     ]
    }
   ],
   "source": [
    "c = 396\n",
    "d = 230\n",
    "subtração = c-d\n",
    "print (subtração)"
   ]
  },
  {
   "cell_type": "code",
   "execution_count": null,
   "id": "7cb246be",
   "metadata": {},
   "outputs": [
    {
     "name": "stdout",
     "output_type": "stream",
     "text": [
      "42\n"
     ]
    }
   ],
   "source": [
    "a = 14\n",
    "b = 3\n",
    "multiplicação = a * b\n",
    "print (a*b)"
   ]
  },
  {
   "cell_type": "code",
   "execution_count": 4,
   "id": "43ed373b",
   "metadata": {},
   "outputs": [
    {
     "name": "stdout",
     "output_type": "stream",
     "text": [
      "1.3333333333333333\n"
     ]
    }
   ],
   "source": [
    "a = 20\n",
    "b = 15\n",
    "divisão = a / b\n",
    "print (divisão)"
   ]
  },
  {
   "cell_type": "code",
   "execution_count": 5,
   "id": "6abd3f54",
   "metadata": {},
   "outputs": [
    {
     "name": "stdout",
     "output_type": "stream",
     "text": [
      "1\n"
     ]
    }
   ],
   "source": [
    "a = 20 \n",
    "b = 15\n",
    "div = a // b\n",
    "print(div)"
   ]
  },
  {
   "cell_type": "markdown",
   "id": "88382933",
   "metadata": {},
   "source": [
    "Quando a expressão envolve apenas variáveis inteiras se implementa a divisão truncada que retorna um valor inteiro."
   ]
  },
  {
   "cell_type": "code",
   "execution_count": 6,
   "id": "89668694",
   "metadata": {},
   "outputs": [
    {
     "name": "stdout",
     "output_type": "stream",
     "text": [
      "5\n"
     ]
    }
   ],
   "source": [
    "a = 20 \n",
    "b = 15\n",
    "resto = a % b\n",
    "print(resto)"
   ]
  },
  {
   "cell_type": "code",
   "execution_count": 7,
   "id": "b9683d16",
   "metadata": {},
   "outputs": [
    {
     "name": "stdout",
     "output_type": "stream",
     "text": [
      "125\n"
     ]
    }
   ],
   "source": [
    "a = 5\n",
    "b = 3\n",
    "\n",
    "pot = 5**3\n",
    "print(pot)"
   ]
  },
  {
   "cell_type": "markdown",
   "id": "fc5cf0c6",
   "metadata": {},
   "source": [
    " Operadores aritméticos compostos"
   ]
  },
  {
   "cell_type": "code",
   "execution_count": 8,
   "id": "0c7a2f5d",
   "metadata": {},
   "outputs": [
    {
     "name": "stdout",
     "output_type": "stream",
     "text": [
      "10\n",
      "1\n"
     ]
    }
   ],
   "source": [
    "a += 5 \n",
    "b -= 2  \n",
    "print(a)\n",
    "print(b)"
   ]
  },
  {
   "cell_type": "markdown",
   "id": "11260ea0",
   "metadata": {},
   "source": [
    "a += 5  # Equivalente a a = a + 5\n",
    "b -= 2  # Equivalente a b = b - 2"
   ]
  },
  {
   "cell_type": "markdown",
   "id": "953c6b5e",
   "metadata": {},
   "source": [
    "Representação de Números Inteiros Grandes e Comparação com C/C++\n",
    "\n",
    "Em Python, você pode representar números inteiros muito grandes sem se preocupar com estouro de capacidade, ao contrário de C/C++.\n",
    "Veja o exemplo a seguir.\n"
   ]
  },
  {
   "cell_type": "markdown",
   "id": "e8a9937d",
   "metadata": {},
   "source": [
    " Calculando o fatorial de 30 em Python"
   ]
  },
  {
   "cell_type": "code",
   "execution_count": 9,
   "id": "af22498f",
   "metadata": {},
   "outputs": [],
   "source": [
    "\n",
    "fatorial_30 = 1\n",
    "for i in range(1, 31):\n",
    "    fatorial_30 *= i\n"
   ]
  },
  {
   "cell_type": "markdown",
   "id": "1a2fe063",
   "metadata": {},
   "source": [
    " Maior valor inteiro representável em C/C++\n",
    "import sys\n",
    "maior_int_c = sys.maxsize\n",
    "\n",
    "print(\"Fatorial de 30 em Python:\", fatorial_30)\n",
    "print(\"Maior valor inteiro em C/C++:\", maior_int_c)\n"
   ]
  },
  {
   "cell_type": "markdown",
   "id": "439a28a7",
   "metadata": {},
   "source": [
    "Imutabilidade de Variáveis Numéricas:\n",
    "\n",
    "Em Python, as variáveis numéricas (inteiros, floats, etc.) são imutáveis. Isso significa que, quando você realiza uma operação que modifica o valor de uma variável, na verdade está criando uma nova variável. "
   ]
  },
  {
   "cell_type": "code",
   "execution_count": 11,
   "id": "4e9a64ed",
   "metadata": {},
   "outputs": [
    {
     "name": "stdout",
     "output_type": "stream",
     "text": [
      "valor de x:  8\n",
      "valor de Y:  23\n"
     ]
    }
   ],
   "source": [
    "x = 23\n",
    "y = x\n",
    "\n",
    "x -= 15\n",
    "\n",
    "print(\"valor de x: \" , x)\n",
    "print(\"valor de Y: \" , y)\n"
   ]
  },
  {
   "cell_type": "markdown",
   "id": "60b9a16f",
   "metadata": {},
   "source": [
    "observe que y é uma nova variável com o mesmo valor que x,\n",
    "em (x -= 15) Modifica x, mas não afeta y e ( y permanece inalterado)."
   ]
  },
  {
   "cell_type": "markdown",
   "id": "03a38b14",
   "metadata": {},
   "source": [
    "Métodos Disponíveis para Variáveis Inteiras:\n",
    "\n",
    "Em Python, as variáveis inteiras têm métodos associados a elas. Alguns dos métodos comuns incluem bit_length(), que retorna o número mínimo de bits necessários para representar o número em binário, e __abs__(), que retorna o valor absoluto. Exemplo:"
   ]
  },
  {
   "cell_type": "code",
   "execution_count": 12,
   "id": "747fef98",
   "metadata": {},
   "outputs": [
    {
     "name": "stdout",
     "output_type": "stream",
     "text": [
      "Número de bits necessários: 5\n",
      "Valor absoluto: 23\n"
     ]
    }
   ],
   "source": [
    "num = -23\n",
    "\n",
    "print(\"Número de bits necessários:\", num.bit_length())\n",
    "print(\"Valor absoluto:\", abs(num))\n"
   ]
  },
  {
   "cell_type": "markdown",
   "id": "07bca60b",
   "metadata": {},
   "source": [
    "Aqui estão alguns dos métodos disponíveis para objetos inteiros em Python:\n",
    "\n",
    "1. **`__abs__()`**: Retorna o valor absoluto do inteiro.\n",
    "\n",
    "2. **`__add__(other)`**: Retorna a soma do inteiro com `other`.\n",
    "\n",
    "3. **`__and__(other)`**: Retorna a operação de bit a bit AND entre o inteiro e `other`.\n",
    "\n",
    "4. **`__ceil__()`**: Retorna o menor inteiro maior ou igual ao número.\n",
    "\n",
    "5. **`__divmod__(other)`**: Retorna uma tupla contendo o quociente e o resto da divisão do inteiro por `other`.\n",
    "\n",
    "6. **`__eq__(other)`**, **`__ne__(other)`**, **`__lt__(other)`**, **`__le__(other)`**, **`__gt__(other)`**, **`__ge__(other)`**: Métodos de comparação.\n",
    "\n",
    "7. **`__floor__()`**: Retorna o maior inteiro menor ou igual ao número.\n",
    "\n",
    "8. **`__floordiv__(other)`**: Retorna o quociente da divisão inteira do inteiro por `other`.\n",
    "\n",
    "9. **`__index__()`**: Retorna o valor do inteiro como um índice.\n",
    "\n",
    "10. **`__int__()`**: Retorna o próprio inteiro.\n",
    "\n",
    "11. **`__invert__()`**: Retorna a inversão bit a bit do inteiro.\n",
    "\n",
    "12. **`__lshift__(other)`**: Retorna o resultado do deslocamento de bits para a esquerda.\n",
    "\n",
    "13. **`__mod__(other)`**: Retorna o resto da divisão do inteiro por `other`.\n",
    "\n",
    "14. **`__mul__(other)`**: Retorna o produto do inteiro por `other`.\n",
    "\n",
    "15. **`__or__(other)`**: Retorna a operação de bit a bit OR entre o inteiro e `other`.\n",
    "\n",
    "16. **`__pos__()`**: Retorna o próprio inteiro.\n",
    "\n",
    "17. **`__pow__(other, modulo)`**: Retorna o resultado do inteiro elevado a uma potência.\n",
    "\n",
    "18. **`__radd__(other)`**, **`__rsub__(other)`**, **`__rmul__(other)`**, **`__rtruediv__(other)`**: Métodos de operação reversa.\n",
    "\n",
    "19. **`__rand__(other)`**, **`__ror__(other)`**, **`__rxor__(other)`**: Métodos de operação de bit a bit reversa.\n",
    "\n",
    "20. **`__round__(ndigits)`**: Retorna o inteiro arredondado para `ndigits` casas decimais (o padrão é 0).\n",
    "\n",
    "21. **`__rshift__(other)`**: Retorna o resultado do deslocamento de bits para a direita.\n",
    "\n",
    "22. **`__sub__(other)`**: Retorna a diferença entre o inteiro e `other`.\n",
    "\n",
    "23. **`__truediv__(other)`**: Retorna a divisão verdadeira do inteiro por `other`.\n",
    "\n",
    "24. **`__trunc__()`**: Retorna a parte inteira do número.\n",
    "\n",
    "25. **`__xor__(other)`**: Retorna a operação de bit a bit XOR entre o inteiro e `other`.\n",
    "\n",
    "Essa é uma lista geral e pode haver métodos adicionais dependendo da versão específica do Python. Para obter informações mais detalhadas, consulte a documentação oficial: [Documentação Python - Tipos Numéricos Inteiros](https://docs.python.org/3/library/stdtypes.html#int)."
   ]
  }
 ],
 "metadata": {
  "kernelspec": {
   "display_name": "Python 3 (ipykernel)",
   "language": "python",
   "name": "python3"
  },
  "language_info": {
   "codemirror_mode": {
    "name": "ipython",
    "version": 3
   },
   "file_extension": ".py",
   "mimetype": "text/x-python",
   "name": "python",
   "nbconvert_exporter": "python",
   "pygments_lexer": "ipython3",
   "version": "3.11.5"
  }
 },
 "nbformat": 4,
 "nbformat_minor": 5
}
